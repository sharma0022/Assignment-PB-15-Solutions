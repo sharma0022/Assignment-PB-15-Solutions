{
 "cells": [
  {
   "cell_type": "markdown",
   "id": "67690497",
   "metadata": {},
   "source": [
    "Q.1. How many seconds are in an hour? Use the interactive interpreter as a calculator and              multiply the number of seconds in a minute (60) by the number of minutes in an hour (also        60).\n",
    "\n",
    "Ans: There are 3600 seconds in an hour. "
   ]
  },
  {
   "cell_type": "code",
   "execution_count": 1,
   "id": "a26913b8",
   "metadata": {},
   "outputs": [
    {
     "name": "stdout",
     "output_type": "stream",
     "text": [
      "3600\n"
     ]
    }
   ],
   "source": [
    "print(60*60)"
   ]
  },
  {
   "cell_type": "markdown",
   "id": "bce4d29e",
   "metadata": {},
   "source": [
    "Q.2. Assign the result from the previous task (seconds in an hour) to a variable called\n",
    "     seconds_per_hour.\n",
    "\n",
    "Ans:"
   ]
  },
  {
   "cell_type": "code",
   "execution_count": 2,
   "id": "d0ddb9b5",
   "metadata": {},
   "outputs": [
    {
     "name": "stdout",
     "output_type": "stream",
     "text": [
      "3600\n"
     ]
    }
   ],
   "source": [
    "seconds_per_hour = 60*60\n",
    "print(seconds_per_hour)"
   ]
  },
  {
   "cell_type": "markdown",
   "id": "51b5e42f",
   "metadata": {},
   "source": [
    "Q.3. How many seconds do you think there are in a day? Make use of the variables seconds per hour\n",
    "     and minutes per hour.\n",
    "\n",
    "Ans: "
   ]
  },
  {
   "cell_type": "code",
   "execution_count": 3,
   "id": "349e9b43",
   "metadata": {},
   "outputs": [
    {
     "name": "stdout",
     "output_type": "stream",
     "text": [
      "86400\n"
     ]
    }
   ],
   "source": [
    "minutes_per_hour = 60\n",
    "print(seconds_per_hour*24)"
   ]
  },
  {
   "cell_type": "markdown",
   "id": "9d34c7af",
   "metadata": {},
   "source": [
    "Q.4. Calculate seconds per day again, but this time save the result in a variable called seconds_per_day\n",
    "\n",
    "Ans: "
   ]
  },
  {
   "cell_type": "code",
   "execution_count": 4,
   "id": "e8ea1308",
   "metadata": {},
   "outputs": [
    {
     "name": "stdout",
     "output_type": "stream",
     "text": [
      "86400\n"
     ]
    }
   ],
   "source": [
    "seconds_per_day = 24*60*60\n",
    "print(seconds_per_day)"
   ]
  },
  {
   "cell_type": "markdown",
   "id": "80f78aca",
   "metadata": {},
   "source": [
    "Q.5. Divide seconds_per_day by seconds_per_hour. Use floating-point (/) division.\n",
    "\n",
    "Ans: "
   ]
  },
  {
   "cell_type": "code",
   "execution_count": 13,
   "id": "3415deb7",
   "metadata": {},
   "outputs": [
    {
     "name": "stdout",
     "output_type": "stream",
     "text": [
      "24.0\n"
     ]
    }
   ],
   "source": [
    "print(seconds_per_day / seconds_per_hour)\n"
   ]
  },
  {
   "cell_type": "markdown",
   "id": "fd620586",
   "metadata": {},
   "source": [
    "Q.6. Divide seconds_per_day by seconds_per_hour, using integer (//) division. Did this number agree\n",
    "     with the floating-point value from the previous question, aside from the final .0?\n",
    "\n",
    "Ans: "
   ]
  },
  {
   "cell_type": "code",
   "execution_count": 14,
   "id": "afd6d1fd",
   "metadata": {},
   "outputs": [
    {
     "name": "stdout",
     "output_type": "stream",
     "text": [
      "24 -> yes this values agree with the floating point value from the previous question\n"
     ]
    }
   ],
   "source": [
    "print(seconds_per_day//seconds_per_hour, end='')\n",
    "print(' -> yes this values agree with the floating point value from the previous question')"
   ]
  },
  {
   "cell_type": "markdown",
   "id": "854ceba0",
   "metadata": {},
   "source": [
    "Q.7. Write a generator, genPrimes, that returns the sequence of prime numbers on successive calls to\n",
    "     its next() method: 2, 3, 5, 7, 11, ...\n",
    "        \n",
    "Ans: "
   ]
  },
  {
   "cell_type": "code",
   "execution_count": 17,
   "id": "13f8e3a7",
   "metadata": {},
   "outputs": [
    {
     "name": "stdout",
     "output_type": "stream",
     "text": [
      "2\n",
      "3\n",
      "5\n",
      "7\n",
      "11\n"
     ]
    }
   ],
   "source": [
    "def genPrimes():\n",
    "    n = 0\n",
    "    while True:\n",
    "        if n == 2 or n == 3 :\n",
    "            yield n\n",
    "        elif ((n-1)%6 == 0 or (n+1)%6 == 0) and n !=1:\n",
    "            yield n\n",
    "        n = n+1\n",
    "        \n",
    "output = genPrimes()\n",
    "for ele in range(5):\n",
    "    print(next(output))"
   ]
  },
  {
   "cell_type": "code",
   "execution_count": 18,
   "id": "252aff12",
   "metadata": {},
   "outputs": [
    {
     "name": "stdout",
     "output_type": "stream",
     "text": [
      "2\n",
      "3\n",
      "5\n"
     ]
    },
    {
     "data": {
      "text/plain": [
       "Ellipsis"
      ]
     },
     "execution_count": 18,
     "metadata": {},
     "output_type": "execute_result"
    }
   ],
   "source": [
    "def genPrimes():\n",
    "    primes = []  \n",
    "    candidate = 2\n",
    "    while True:\n",
    "        is_prime = True\n",
    "        for prime in primes:\n",
    "            if candidate % prime == 0:\n",
    "                is_prime = False\n",
    "                break\n",
    "        if is_prime:\n",
    "            primes.append(candidate)\n",
    "            yield candidate\n",
    "        candidate += 1\n",
    "        \n",
    "prime_generator = genPrimes()\n",
    "print(next(prime_generator)) # 2\n",
    "print(next(prime_generator)) # 3\n",
    "print(next(prime_generator)) # 5\n",
    "...\n"
   ]
  },
  {
   "cell_type": "code",
   "execution_count": null,
   "id": "a6fc8b89",
   "metadata": {},
   "outputs": [],
   "source": []
  }
 ],
 "metadata": {
  "kernelspec": {
   "display_name": "Python 3 (ipykernel)",
   "language": "python",
   "name": "python3"
  },
  "language_info": {
   "codemirror_mode": {
    "name": "ipython",
    "version": 3
   },
   "file_extension": ".py",
   "mimetype": "text/x-python",
   "name": "python",
   "nbconvert_exporter": "python",
   "pygments_lexer": "ipython3",
   "version": "3.9.12"
  }
 },
 "nbformat": 4,
 "nbformat_minor": 5
}
